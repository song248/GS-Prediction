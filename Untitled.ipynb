{
 "cells": [
  {
   "cell_type": "code",
   "execution_count": 1,
   "id": "f0649a68-4c36-42d5-8307-fb47a7f9af65",
   "metadata": {},
   "outputs": [],
   "source": [
    "from pytorch_tabnet.tab_model import TabNetRegressor"
   ]
  },
  {
   "cell_type": "code",
   "execution_count": 2,
   "id": "686ecfa9-b483-4fd4-8565-258c76c49e3d",
   "metadata": {},
   "outputs": [
    {
     "name": "stderr",
     "output_type": "stream",
     "text": [
      "/home/song/Desktop/GS-Prediction/pytorch_tabnet/abstract_model.py:82: UserWarning: Device used : cuda\n",
      "  warnings.warn(f\"Device used : {self.device}\")\n"
     ]
    }
   ],
   "source": [
    "loaded_clf = TabNetRegressor()\n",
    "loaded_clf.load_model('./assets/tabnet_model.zip')"
   ]
  },
  {
   "cell_type": "code",
   "execution_count": 3,
   "id": "8dcc0bf9-55cc-4f1a-a736-e3648d61a2cb",
   "metadata": {},
   "outputs": [],
   "source": [
    "# min_con  max_con  avg_con  cnt_con  std_con  med_con\n",
    "stats = {'Count': 29,\n",
    " 'Min': 26.5,\n",
    " 'Max': 58113.0,\n",
    " 'Mean': 8071.62,\n",
    " 'Std': 11028.15,\n",
    " 'Median': 4533.0}"
   ]
  },
  {
   "cell_type": "code",
   "execution_count": null,
   "id": "a2b4087e-8344-412d-9781-494cf41871d5",
   "metadata": {},
   "outputs": [],
   "source": []
  }
 ],
 "metadata": {
  "kernelspec": {
   "display_name": "dcs",
   "language": "python",
   "name": "dcs"
  },
  "language_info": {
   "codemirror_mode": {
    "name": "ipython",
    "version": 3
   },
   "file_extension": ".py",
   "mimetype": "text/x-python",
   "name": "python",
   "nbconvert_exporter": "python",
   "pygments_lexer": "ipython3",
   "version": "3.9.19"
  }
 },
 "nbformat": 4,
 "nbformat_minor": 5
}
