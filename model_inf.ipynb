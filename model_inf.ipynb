{
 "cells": [
  {
   "cell_type": "code",
   "execution_count": null,
   "id": "57fd32b5-b740-47ef-a192-00705d4e450e",
   "metadata": {},
   "outputs": [],
   "source": [
    "import torch\n",
    "import cv2\n",
    "import numpy as np\n",
    "from albumentations.pytorch import ToTensorV2\n",
    "import albumentations as A\n",
    "from torch.autograd import Variable\n",
    "import os\n",
    "\n",
    "from pytorch_dcsaunet.DCSAU_Net import Model"
   ]
  },
  {
   "cell_type": "code",
   "execution_count": null,
   "id": "b4a05db0-4652-49e6-a2df-0029eb8e42b3",
   "metadata": {},
   "outputs": [],
   "source": [
    "def get_transform():\n",
    "    return A.Compose([\n",
    "        A.Normalize(mean=(0.485, 0.456, 0.406),\n",
    "                    std=(0.229, 0.224, 0.225)),\n",
    "        ToTensorV2()  # ✅ 여기만 수정됨\n",
    "    ])"
   ]
  },
  {
   "cell_type": "code",
   "execution_count": 3,
   "id": "f0626bc8-c5bb-43ed-af7c-bf0dbc192785",
   "metadata": {},
   "outputs": [],
   "source": [
    "def inference_single_image(image_path, model_path, output_path='result.png'):\n",
    "    device = torch.device('cuda' if torch.cuda.is_available() else 'cpu')\n",
    "\n",
    "    # 이미지 불러오기\n",
    "    original_image = cv2.imread(image_path)\n",
    "    image = cv2.cvtColor(original_image, cv2.COLOR_BGR2RGB)\n",
    "\n",
    "    transform = get_transform()\n",
    "    transformed = transform(image=image)\n",
    "    image_tensor = transformed['image'].unsqueeze(0).to(device)  # [1, C, H, W]\n",
    "\n",
    "    # 모델 로딩\n",
    "    # model = DCSAU_Net()  # 모델 클래스 초기화\n",
    "    # model.load_state_dict(torch.load(model_path, map_location=device))\n",
    "    # model.to(device)\n",
    "    # model.eval()\n",
    "\n",
    "    # 그대로 불러오기\n",
    "    model = torch.load(model_path, map_location=device)\n",
    "    model.to(device)\n",
    "    model.eval()\n",
    "\n",
    "    \n",
    "\n",
    "    # 추론\n",
    "    with torch.no_grad():\n",
    "        output = model(image_tensor)\n",
    "        output = torch.sigmoid(output)\n",
    "        output = (output >= 0.5).float()\n",
    "\n",
    "    # 결과 마스크 처리 및 저장\n",
    "    mask = output.squeeze().cpu().numpy()  # [H, W]\n",
    "    mask = (mask * 255).astype(np.uint8)\n",
    "\n",
    "    # 저장\n",
    "    cv2.imwrite(output_path, mask)\n",
    "    print(f\"Inference done! Result saved to: {output_path}\")"
   ]
  },
  {
   "cell_type": "code",
   "execution_count": 4,
   "id": "8bc53ed2-8b6a-471d-b1f8-d74637e9a47c",
   "metadata": {},
   "outputs": [
    {
     "name": "stdout",
     "output_type": "stream",
     "text": [
      "Inference done! Result saved to: output_mask.png\n"
     ]
    },
    {
     "name": "stderr",
     "output_type": "stream",
     "text": [
      "/home/song/anaconda3/envs/dcs/lib/python3.9/site-packages/torch/nn/modules/conv.py:456: UserWarning: Applied workaround for CuDNN issue, install nvrtc.so (Triggered internally at /opt/conda/conda-bld/pytorch_1702400441250/work/aten/src/ATen/native/cudnn/Conv_v8.cpp:80.)\n",
      "  return F.conv2d(input, weight, bias, self.stride,\n"
     ]
    }
   ],
   "source": [
    "image_path = 'output.png'  \n",
    "model_path = 'assets/epoch_last.pth'  \n",
    "output_path = 'output_mask.png'\n",
    "inference_single_image(image_path, model_path, output_path)"
   ]
  },
  {
   "cell_type": "code",
   "execution_count": 5,
   "id": "b6e04662-8caa-4428-84ea-103a815694bf",
   "metadata": {},
   "outputs": [],
   "source": [
    "model = torch.load('assets/epoch_last.pth')"
   ]
  },
  {
   "cell_type": "code",
   "execution_count": null,
   "id": "8de3aaec-c1b5-4dbb-a454-226536299a26",
   "metadata": {},
   "outputs": [],
   "source": []
  }
 ],
 "metadata": {
  "kernelspec": {
   "display_name": "dcs",
   "language": "python",
   "name": "dcs"
  },
  "language_info": {
   "codemirror_mode": {
    "name": "ipython",
    "version": 3
   },
   "file_extension": ".py",
   "mimetype": "text/x-python",
   "name": "python",
   "nbconvert_exporter": "python",
   "pygments_lexer": "ipython3",
   "version": "3.9.19"
  }
 },
 "nbformat": 4,
 "nbformat_minor": 5
}
